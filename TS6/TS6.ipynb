{
 "cells": [
  {
   "cell_type": "markdown",
   "id": "02a3ff0e-132d-4817-a32e-c1ef56e505f7",
   "metadata": {},
   "source": [
    "<img src=\"./logo_UNSAM.jpg\" align=\"right\" width=\"150\" /> \n",
    "\n",
    "# Análisis y procesamiento de señales\n",
    "## Augusto Ojeda-Matias Carbajal TS6: Respuesta en frecuencia de Filtros pasivos RLC"
   ]
  },
  {
   "cell_type": "markdown",
   "id": "b2d24f8f-be46-47f0-8b09-aa7b97c89aec",
   "metadata": {},
   "source": [
    "### Introducción teórica\n"
   ]
  },
  {
   "cell_type": "markdown",
   "id": "9f1da7d9-b03e-4f3f-92af-938eb1739bf9",
   "metadata": {},
   "source": [
    "Un sistema lineal e invariante en el tiempo (LTI) puede escribirse en el dominio de Laplace por su funcion de transferencia:\n",
    "$$H(s)=\\frac{P(s)}{Q(s)}$$\n",
    "Donde $P(s)$ y $Q(s)$ son las trasformadas de Laplace de la entrada $q(t)$ y salida $p(t)$, respectivamente. Para sistemas causales y realizables H(s) es una funcion racional en s cuyos ceros (raices del numerador) y polos (raices del denominador) determinan el comportamiento dinamico, la estabilidad y la forma de la respuesta en frecuencia. Esta respuesta se obtiene de evluar la funcion en $j\\omega$, es decir sobre el eje imaginario:\n",
    "$$H(j\\omega)= H(s)\\big|_{s=j\\omega}$$\n",
    "Pudiendo escribirse en forma polar como\n",
    "$$ H(j\\omega)=|H(jw)|e^{j<H(j\\omega)}$$\n",
    "donde $|H(j\\omega)|$ es el modulo y $<H(j\\omega)$ es la fase (o desfase) introducida por el sistema a la frecuencia $\\omega $, a su vez nos interesa definir el retardo de grupo, este se puede definir como \n",
    "$$ T_g(\\omega)=-\\frac{d}{d\\omega}<H(j\\omega)$$ "
   ]
  },
  {
   "cell_type": "markdown",
   "id": "44803b45-697f-41d1-abef-85593dd621ac",
   "metadata": {},
   "source": [
    "En general, las redes RLC, ideales dan lugar a funciones de transferencia de segundo orden, cuya forma canónica es \n",
    "$$H(s)=\\frac{b_2s^2+b_1 s+b_0}{a_2 s^2+a_1 s + a_0}=\\frac{P(s)}{Q(s)}$$ Buscamos que tanto P(s) Y Q(s) son polinomios monicos es decir que se cumpla que $b_2=1$ y $a_2=1$, las demas cosntantes relacionadas a Q(s), van a estar relacionadas a valores de nuestro circuito real, obteniendo asi \n",
    "$$ H(s)=\\frac{s^2+b_1 s+b_0}{s^2+s\\frac{\\omega_0}{Q} + \\omega_0^2}$$ Donde $\\omega_0$ es la frecuencia natural o de resonancia de nuestro sistema y Q es el factor de calidad, no se puede dar una formula general de Q y esta estara relacionada a los componentes de nuestro circuito y como estos se conecten. No es de interes definir el modulo y la fase. Para eso definiremos $H(j\\omega)= H(s)\\big|_{s=j\\omega}$ quedando\n",
    "$$\n",
    "H(s)|_{s=j\\omega}\n",
    "= \\frac{(j\\omega)^2 + b_1 (j\\omega) + b_0}{(j\\omega)^2 + (j\\omega)\\frac{\\omega_0}{Q} + \\omega_0^2}=\\frac{(-\\omega^2+b_0)+ b_1 (j\\omega)}{(-\\omega^2+ \\omega_0^2) + (j\\omega)\\frac{\\omega_0}{Q}}$$\n",
    "$$|H(j\\omega)|=\\frac{\\sqrt{(-\\omega^2+b_0)^2+ (b_1\\omega)^2}}{\\sqrt{(-\\omega^2+ \\omega_0^2)^2 + ((\\omega)\\frac{\\omega_0}{Q})^2}}$$\n",
    "\n",
    "$$\n",
    "\\angle H(j\\omega)\n",
    "= \\tan^{-1}\\!\\Bigg(\\frac{b_{1}\\,\\omega}{-\\,\\omega^{2}+b_{0}}\\Bigg)\n",
    "\\;-\\;\n",
    "\\tan^{-1}\\!\\Bigg(\\frac{\\big(\\tfrac{\\omega_{0}}{Q}\\big)\\,\\omega}{-\\,\\omega^{2}+\\omega_{0}^{2}}\\Bigg)\n",
    "$$"
   ]
  },
  {
   "cell_type": "markdown",
   "id": "c0ca8c62-20fe-48c5-8222-9b76ab51462a",
   "metadata": {},
   "source": [
    "### Análisis, desarollo y Discusión\n"
   ]
  },
  {
   "cell_type": "markdown",
   "id": "2e82d569-c876-44d3-a37b-038a463864c8",
   "metadata": {},
   "source": [
    "<img src=\"./TS6_Ojeda.jpg\" align=\"center\" width=\"3500\" /> \n"
   ]
  },
  {
   "cell_type": "markdown",
   "id": "d4dc59fc-a027-41bb-9b2f-e01651ce56c7",
   "metadata": {},
   "source": [
    "<img src=\"./t1_modulo.jpg\" align=\"center\" width=\"3500\" /> "
   ]
  },
  {
   "cell_type": "markdown",
   "id": "f79f07f6-d6b8-4137-b18f-d813c8951aba",
   "metadata": {},
   "source": [
    " "
   ]
  },
  {
   "cell_type": "markdown",
   "id": "3310c96d-8e58-45b0-9a0c-8efe4c4eff0d",
   "metadata": {},
   "source": [
    "<img src=\"./t1 fase.jpg\" align=\"center\" width=\"3500\" /> "
   ]
  },
  {
   "cell_type": "markdown",
   "id": "83b9483e-acef-4c77-9266-d9e9a6b6448a",
   "metadata": {},
   "source": [
    "<img src=\"./t1 polos.jpg\" align=\"center\" width=\"3500\" /> "
   ]
  },
  {
   "cell_type": "markdown",
   "id": "0e3ba4fa-de22-4c54-a413-a60a4e8ff2d9",
   "metadata": {},
   "source": [
    "<img src=\"./t2 modulo formula.jpg\" align=\"center\" width=\"3500\" /> "
   ]
  },
  {
   "cell_type": "markdown",
   "id": "fd45428f-57ab-4338-a70a-eb9f2780e8ab",
   "metadata": {},
   "source": [
    "<img src=\"./t2 modulo.jpg\" align=\"center\" width=\"3500\" /> "
   ]
  },
  {
   "cell_type": "markdown",
   "id": "333245ca-b85b-4818-88a7-bbd105f15e62",
   "metadata": {},
   "source": [
    "<img src=\"./t2 fase.jpg\" align=\"center\" width=\"3500\" /> "
   ]
  },
  {
   "cell_type": "markdown",
   "id": "b30fcf70-3e50-439f-a34e-189a7399c628",
   "metadata": {},
   "source": [
    "<img src=\"./t2 diagrama polos.jpg\" align=\"center\" width=\"3500\" /> "
   ]
  },
  {
   "cell_type": "markdown",
   "id": "823e9e72-16ea-4316-96c4-8f49ee12b8c8",
   "metadata": {},
   "source": [
    "<img src=\"./t3 modulo formula.jpg\" align=\"center\" width=\"3500\" /> "
   ]
  },
  {
   "cell_type": "markdown",
   "id": "c1a2a11d-a027-4ba0-a1b3-a673797a220c",
   "metadata": {},
   "source": [
    "<img src=\"./t3 modulo grafica.jpg\" align=\"center\" width=\"3500\" /> "
   ]
  },
  {
   "cell_type": "markdown",
   "id": "65256241-def6-4569-863a-65a58ead89ea",
   "metadata": {},
   "source": [
    "<img src=\"./t3 fase.jpg\" align=\"center\" width=\"3500\" /> "
   ]
  },
  {
   "cell_type": "markdown",
   "id": "75970a6b-f193-4a53-b628-fe5c09843591",
   "metadata": {},
   "source": [
    "<img src=\"./t3 polos.jpg\" align=\"center\" width=\"3500\" /> "
   ]
  },
  {
   "cell_type": "markdown",
   "id": "c5dd2497-fa8f-4444-8c0f-95189ae660ed",
   "metadata": {},
   "source": [
    "### Conclusiones\n"
   ]
  },
  {
   "cell_type": "markdown",
   "id": "e1f9fe1c-70c8-4fb9-ae92-22d3debe6e28",
   "metadata": {},
   "source": [
    "Conclusiones aca"
   ]
  },
  {
   "cell_type": "markdown",
   "id": "892c58c7-2d5e-4a4b-bd9e-ad0d0b34a551",
   "metadata": {},
   "source": [
    "### Autoevaluación del aprendizaje\n"
   ]
  },
  {
   "cell_type": "markdown",
   "id": "62907e76-3269-4346-ab63-a7954a12ddbb",
   "metadata": {},
   "source": [
    "Autoevaluación del aprendizaje\n",
    "\n",
    "Indicar una opción:\n",
    "\n",
    "Resolví la tarea, pero tengo dudas, del bonus\n",
    "\n",
    "\n",
    "\n",
    "\n"
   ]
  },
  {
   "cell_type": "markdown",
   "id": "2eecfbb9-2f32-40a8-a620-a791aa4c2fe4",
   "metadata": {},
   "source": [
    "Responder:\n",
    "¿Qué aprendiste al hacer esta tarea? \n",
    "¿Qué te quedó claro? \n",
    "¿Qué te sigue costando? "
   ]
  },
  {
   "cell_type": "markdown",
   "id": "dfe444ca-1e9c-4c4d-b1f9-ab7c8eef0619",
   "metadata": {},
   "source": [
    "Indicar si se utilizó IA:\n",
    "Sí, usé chatGPT.\n",
    "En caso afirmativo, indicar una opción o varias:\n",
    "Escritura: Me ayudó a mejorar la coherencia y la cohesión de mis textos, además de corregir faltas de ortografía, ya que en este editor de texto no cuento con las líneas rojas que me indiquen si escribí algo mal. Generalmente lo utilizo con ese propósito."
   ]
  },
  {
   "cell_type": "code",
   "execution_count": null,
   "id": "dc54ed07-0ad6-454e-aedc-6b7044d5f898",
   "metadata": {},
   "outputs": [],
   "source": []
  }
 ],
 "metadata": {
  "kernelspec": {
   "display_name": "Python 3 (ipykernel)",
   "language": "python",
   "name": "python3"
  },
  "language_info": {
   "codemirror_mode": {
    "name": "ipython",
    "version": 3
   },
   "file_extension": ".py",
   "mimetype": "text/x-python",
   "name": "python",
   "nbconvert_exporter": "python",
   "pygments_lexer": "ipython3",
   "version": "3.10.18"
  }
 },
 "nbformat": 4,
 "nbformat_minor": 5
}
