{
 "cells": [
  {
   "cell_type": "markdown",
   "id": "42db4439-1434-4d06-97fa-3c2926d35b15",
   "metadata": {},
   "source": [
    "# Introduccion teorica:\n",
    "## Algunas definiciones:"
   ]
  },
  {
   "cell_type": "markdown",
   "id": "ee8a1ca5-eb27-4a8d-9f13-77a543452498",
   "metadata": {},
   "source": [
    " Señal: Una señal se define como cualquier magnitud medible que transporta información.Ejemplos de señales incluyen tensiones eléctricas, presiones acústicas, fuerzas mecánicas, señales biológicas o indicadores financieros.\n",
    " En todos los casos, la señal representa una variable dependiente —la magnitud de interés— expresada como función de una variable independiente, generalmente el tiempo."
   ]
  },
  {
   "cell_type": "markdown",
   "id": "ccbf2d94-7487-40df-b97d-79c2f5bf8a9a",
   "metadata": {},
   "source": [
    " En este TS trabajaremos con señales discreta."
   ]
  },
  {
   "cell_type": "markdown",
   "id": "be52993f-0167-4aed-9d94-542c62dd2674",
   "metadata": {},
   "source": [
    "Una señal de tiempo discreto, que a menudo se llama simplemente señal digital,es aquella en la que la variable independiente está cuantizada,lo que significa que la señal solo está definida en valores específicos de la variable independiente."
   ]
  },
  {
   "cell_type": "markdown",
   "id": "26cfefcf-dd20-4f86-92f6-a35105cbac23",
   "metadata": {},
   "source": [
    "\n",
    "Una señal de tiempo discreto, o secuencia, es esencialmente un arreglo (o vector) de números \\( x[n] \\), presentado como una función de un índice entero \\( n \\).\n",
    "\n",
    "Las secuencias pueden describirse de varias formas.\n",
    "\n",
    "Ejemplo: una secuencia puede presentarse como una expresión matemática o una tabla de valores.\n",
    "\n",
    "$$\n",
    "x[n] =\n",
    "\\begin{cases}\n",
    "1, & n = -1 \\\\\n",
    "2, & n = 0 \\\\\n",
    "3, & n = 1 \\\\\n",
    "4, & n = 2\n",
    "\\end{cases}\n",
    "\\quad \\text{o como:}\n",
    "$$\n",
    "\n",
    "<table>\n",
    "  <tr>\n",
    "    <th>n</th>\n",
    "    <th>x[n]</th>\n",
    "  </tr>\n",
    "  <tr>\n",
    "    <td>-1</td>\n",
    "    <td>1</td>\n",
    "  </tr>\n",
    "  <tr>\n",
    "    <td>0</td>\n",
    "    <td>2</td>\n",
    "  </tr>\n",
    "  <tr>\n",
    "    <td>1</td>\n",
    "    <td>3</td>\n",
    "  </tr>\n",
    "  <tr>\n",
    "    <td>2</td>\n",
    "    <td>4</td>\n",
    "  </tr>\n",
    "</table>"
   ]
  },
  {
   "cell_type": "markdown",
   "id": "43899ed8-1112-4224-be44-e8ddef2e72a8",
   "metadata": {},
   "source": [
    "\n"
   ]
  },
  {
   "cell_type": "code",
   "execution_count": null,
   "id": "ea930ab2-facb-4013-b3ac-1cf18354e487",
   "metadata": {},
   "outputs": [],
   "source": []
  }
 ],
 "metadata": {
  "kernelspec": {
   "display_name": "Python 3 (ipykernel)",
   "language": "python",
   "name": "python3"
  },
  "language_info": {
   "codemirror_mode": {
    "name": "ipython",
    "version": 3
   },
   "file_extension": ".py",
   "mimetype": "text/x-python",
   "name": "python",
   "nbconvert_exporter": "python",
   "pygments_lexer": "ipython3",
   "version": "3.10.18"
  }
 },
 "nbformat": 4,
 "nbformat_minor": 5
}
